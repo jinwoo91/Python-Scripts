{
 "cells": [
  {
   "cell_type": "code",
   "execution_count": 57,
   "id": "561447d3",
   "metadata": {},
   "outputs": [],
   "source": [
    "import json\n",
    "myData = {\n",
    "#     \"DeviceID\": ser_num,\n",
    "#     \"Content-Type\": \"application/json;charset=UTF-8\",\n",
    "    \"data\": \n",
    "    [\n",
    "        {\"ser_num\":\"PLZ2022C1\",\"lat_c\":35.169538,\"lon_c\":129.135419,\"dof_vib\":3.2,\"dof_tilt\":1,\"err_code\":0,\"temp_in\":8,\"temp_out\":24,\"temp_goal\":5,\"cold_min_left\":251,\"bat_level\":51,\"bat_volt\":371,\"time_stamp\":\"220929144659\",\"wifi_ssid\":\"plzhwtest\",\"sd_mb_now\":84},\n",
    "        {\"ser_num\":\"PLZ2022C2\",\"lat_c\":35.17195,\"lon_c\":129.140024,\"dof_vib\":5.56,\"dof_tilt\":6,\"err_code\":3,\"temp_in\":13,\"temp_out\":24,\"temp_goal\":5,\"cold_min_left\":260,\"bat_level\":21,\"bat_volt\":341,\"time_stamp\":\"220929144659\",\"wifi_ssid\":\"plzhwtest\",\"sd_mb_now\":1012},\n",
    "        {\"ser_num\":\"PLZ2022C3\",\"lat_c\":35.166117,\"lon_c\":129.14135,\"dof_vib\":5.16,\"dof_tilt\":6,\"err_code\":0,\"temp_in\":6,\"temp_out\":22,\"temp_goal\":5,\"cold_min_left\":278,\"bat_level\":31,\"bat_volt\":351,\"time_stamp\":\"220929144659\",\"wifi_ssid\":\"plzhwtest\",\"sd_mb_now\":1665},\n",
    "        {\"ser_num\":\"PLZ2022C4\",\"lat_c\":35.165846,\"lon_c\":129.14129,\"dof_vib\":3.28,\"dof_tilt\":8,\"err_code\":0,\"temp_in\":9,\"temp_out\":21,\"temp_goal\":5,\"cold_min_left\":324,\"bat_level\":48,\"bat_volt\":368,\"time_stamp\":\"220929144659\",\"wifi_ssid\":\"plzhwtest\",\"sd_mb_now\":24},\n",
    "        {\"ser_num\":\"PLZ2022C5\",\"lat_c\":35.165574,\"lon_c\":129.139871,\"dof_vib\":5.66,\"dof_tilt\":8,\"err_code\":0,\"temp_in\":3,\"temp_out\":22,\"temp_goal\":5,\"cold_min_left\":289,\"bat_level\":25,\"bat_volt\":345,\"time_stamp\":\"220929144659\",\"wifi_ssid\":\"plzhwtest\",\"sd_mb_now\":479},\n",
    "        {\"ser_num\":\"PLZ2022C6\",\"lat_c\":35.16944,\"lon_c\":129.131583,\"dof_vib\":6.6,\"dof_tilt\":11,\"err_code\":0,\"temp_in\":13,\"temp_out\":20,\"temp_goal\":5,\"cold_min_left\":236,\"bat_level\":25,\"bat_volt\":345,\"time_stamp\":\"220929144659\",\"wifi_ssid\":\"plzhwtest\",\"sd_mb_now\":854},\n",
    "        {\"ser_num\":\"PLZ2022C7\",\"lat_c\":35.167771,\"lon_c\":129.131049,\"dof_vib\":4.88,\"dof_tilt\":9,\"err_code\":0,\"temp_in\":6,\"temp_out\":23,\"temp_goal\":5,\"cold_min_left\":261,\"bat_level\":95,\"bat_volt\":415,\"time_stamp\":\"220929144659\",\"wifi_ssid\":\"plzhwtest\",\"sd_mb_now\":837},\n",
    "        {\"ser_num\":\"PLZ2022C8\",\"lat_c\":35.17254,\"lon_c\":129.133927,\"dof_vib\":7.84,\"dof_tilt\":2,\"err_code\":0,\"temp_in\":13,\"temp_out\":22,\"temp_goal\":5,\"cold_min_left\":191,\"bat_level\":44,\"bat_volt\":364,\"time_stamp\":\"220929144659\",\"wifi_ssid\":\"plzhwtest\",\"sd_mb_now\":877},\n",
    "        {\"ser_num\":\"PLZ2022C9\",\"lat_c\":35.171741,\"lon_c\":129.1306,\"dof_vib\":4.65,\"dof_tilt\":1,\"err_code\":0,\"temp_in\":7,\"temp_out\":28,\"temp_goal\":5,\"cold_min_left\":334,\"bat_level\":26,\"bat_volt\":346,\"time_stamp\":\"220929144659\",\"wifi_ssid\":\"plzhwtest\",\"sd_mb_now\":2275},\n",
    "        {\"ser_num\":\"PLZ2022C10\",\"lat_c\":35.174463,\"lon_c\":129.134856,\"dof_vib\":7.22,\"dof_tilt\":10,\"err_code\":0,\"temp_in\":10,\"temp_out\":28,\"temp_goal\":5,\"cold_min_left\":175,\"bat_level\":60,\"bat_volt\":380,\"time_stamp\":\"220929144659\",\"wifi_ssid\":\"plzhwtest\",\"sd_mb_now\":1817}\n",
    "    ]\n",
    "}"
   ]
  },
  {
   "cell_type": "code",
   "execution_count": 58,
   "id": "87084587",
   "metadata": {},
   "outputs": [
    {
     "name": "stdout",
     "output_type": "stream",
     "text": [
      "200\n",
      "{\"data\":[{\"ser_num\":\"PLZ2022C1\",\"lat_c\":35.169538,\"lon_c\":129.135419,\"dof_vib\":3.2,\"dof_tilt\":1,\"err_code\":0,\"temp_in\":8,\"temp_out\":24,\"temp_goal\":5,\"cold_min_left\":251,\"bat_level\":51,\"bat_volt\":371,\"time_stamp\":\"220929144659\",\"wifi_ssid\":\"plzhwtest\",\"sd_mb_now\":84},{\"ser_num\":\"PLZ2022C2\",\"lat_c\":35.17195,\"lon_c\":129.140024,\"dof_vib\":5.56,\"dof_tilt\":6,\"err_code\":3,\"temp_in\":13,\"temp_out\":24,\"temp_goal\":5,\"cold_min_left\":260,\"bat_level\":21,\"bat_volt\":341,\"time_stamp\":\"220929144659\",\"wifi_ssid\":\"plzhwtest\",\"sd_mb_now\":1012},{\"ser_num\":\"PLZ2022C3\",\"lat_c\":35.166117,\"lon_c\":129.14135,\"dof_vib\":5.16,\"dof_tilt\":6,\"err_code\":0,\"temp_in\":6,\"temp_out\":22,\"temp_goal\":5,\"cold_min_left\":278,\"bat_level\":31,\"bat_volt\":351,\"time_stamp\":\"220929144659\",\"wifi_ssid\":\"plzhwtest\",\"sd_mb_now\":1665},{\"ser_num\":\"PLZ2022C4\",\"lat_c\":35.165846,\"lon_c\":129.14129,\"dof_vib\":3.28,\"dof_tilt\":8,\"err_code\":0,\"temp_in\":9,\"temp_out\":21,\"temp_goal\":5,\"cold_min_left\":324,\"bat_level\":48,\"bat_volt\":368,\"time_stamp\":\"220929144659\",\"wifi_ssid\":\"plzhwtest\",\"sd_mb_now\":24},{\"ser_num\":\"PLZ2022C5\",\"lat_c\":35.165574,\"lon_c\":129.139871,\"dof_vib\":5.66,\"dof_tilt\":8,\"err_code\":0,\"temp_in\":3,\"temp_out\":22,\"temp_goal\":5,\"cold_min_left\":289,\"bat_level\":25,\"bat_volt\":345,\"time_stamp\":\"220929144659\",\"wifi_ssid\":\"plzhwtest\",\"sd_mb_now\":479},{\"ser_num\":\"PLZ2022C6\",\"lat_c\":35.16944,\"lon_c\":129.131583,\"dof_vib\":6.6,\"dof_tilt\":11,\"err_code\":0,\"temp_in\":13,\"temp_out\":20,\"temp_goal\":5,\"cold_min_left\":236,\"bat_level\":25,\"bat_volt\":345,\"time_stamp\":\"220929144659\",\"wifi_ssid\":\"plzhwtest\",\"sd_mb_now\":854},{\"ser_num\":\"PLZ2022C7\",\"lat_c\":35.167771,\"lon_c\":129.131049,\"dof_vib\":4.88,\"dof_tilt\":9,\"err_code\":0,\"temp_in\":6,\"temp_out\":23,\"temp_goal\":5,\"cold_min_left\":261,\"bat_level\":95,\"bat_volt\":415,\"time_stamp\":\"220929144659\",\"wifi_ssid\":\"plzhwtest\",\"sd_mb_now\":837},{\"ser_num\":\"PLZ2022C8\",\"lat_c\":35.17254,\"lon_c\":129.133927,\"dof_vib\":7.84,\"dof_tilt\":2,\"err_code\":0,\"temp_in\":13,\"temp_out\":22,\"temp_goal\":5,\"cold_min_left\":191,\"bat_level\":44,\"bat_volt\":364,\"time_stamp\":\"220929144659\",\"wifi_ssid\":\"plzhwtest\",\"sd_mb_now\":877},{\"ser_num\":\"PLZ2022C9\",\"lat_c\":35.171741,\"lon_c\":129.1306,\"dof_vib\":4.65,\"dof_tilt\":1,\"err_code\":0,\"temp_in\":7,\"temp_out\":28,\"temp_goal\":5,\"cold_min_left\":334,\"bat_level\":26,\"bat_volt\":346,\"time_stamp\":\"220929144659\",\"wifi_ssid\":\"plzhwtest\",\"sd_mb_now\":2275},{\"ser_num\":\"PLZ2022C10\",\"lat_c\":35.174463,\"lon_c\":129.134856,\"dof_vib\":7.22,\"dof_tilt\":10,\"err_code\":0,\"temp_in\":10,\"temp_out\":28,\"temp_goal\":5,\"cold_min_left\":175,\"bat_level\":60,\"bat_volt\":380,\"time_stamp\":\"220929144659\",\"wifi_ssid\":\"plzhwtest\",\"sd_mb_now\":1817}]}\n"
     ]
    }
   ],
   "source": [
    "import requests\n",
    "\n",
    "url = \"http://gps.plzlab.com/coldChain/insert\"\n",
    "ser_num = \"PLZ2022C1\"\n",
    "\n",
    "myHeaders = {\"DeviceID\": ser_num, \"Content-Type\": \"application/json;charset=UTF-8\"}\n",
    "\n",
    "x = requests.post(url, json = myData, headers= myHeaders)\n",
    "\n",
    "print(x.status_code)\n",
    "print(x.text)"
   ]
  },
  {
   "cell_type": "code",
   "execution_count": null,
   "id": "d953ea09",
   "metadata": {},
   "outputs": [],
   "source": []
  }
 ],
 "metadata": {
  "kernelspec": {
   "display_name": "Python 3 (ipykernel)",
   "language": "python",
   "name": "python3"
  },
  "language_info": {
   "codemirror_mode": {
    "name": "ipython",
    "version": 3
   },
   "file_extension": ".py",
   "mimetype": "text/x-python",
   "name": "python",
   "nbconvert_exporter": "python",
   "pygments_lexer": "ipython3",
   "version": "3.9.7"
  }
 },
 "nbformat": 4,
 "nbformat_minor": 5
}
